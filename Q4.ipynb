{
 "cells": [
  {
   "cell_type": "code",
   "execution_count": 2,
   "id": "aa4cb784",
   "metadata": {},
   "outputs": [
    {
     "name": "stdout",
     "output_type": "stream",
     "text": [
      "{'Ads_problem4\\\\Ramen\\\\Ideal\\\\': ['Ads_problem4\\\\Ramen\\\\Ideal\\\\AdobeStock_254640691.jpeg', 'Ads_problem4\\\\Ramen\\\\Ideal\\\\AdobeStock_255497590.jpeg'], 'Ads_problem4\\\\Ramen\\\\Other\\\\': ['Ads_problem4\\\\Ramen\\\\Other\\\\AdobeStock_175017150.jpeg', 'Ads_problem4\\\\Ramen\\\\Other\\\\AdobeStock_288691583.jpeg', 'Ads_problem4\\\\Ramen\\\\Other\\\\AdobeStock_297274410.jpeg']}\n"
     ]
    }
   ],
   "source": [
    "import os\n",
    "import glob\n",
    "\n",
    "path = \"Ads_problem4\" # Path of the folder where the images for the Q4 are present\n",
    "all_dir = os.listdir(path) # Getting all the subdirectories present in the Ads_problem4 folder\n",
    "data = {}\n",
    "\n",
    "all_img = []\n",
    "\n",
    "for i in glob.iglob(\"Ads_problem4/*/\"): # Iterating through all the sub-folders in the Ads_problem folder\n",
    "    data[i] = None\n",
    "    d = {}\n",
    "    \n",
    "    for j in glob.iglob(f\"{i}/*/\"): # Iterating through all the folders in the subfolders\n",
    "        \n",
    "        d[j] = []\n",
    "        for k in glob.iglob(f\"{j}/*\"):# Iterating through all the images in the subfolders\n",
    "            if not(k.endswith(\"csv\")):\n",
    "                d[j].append(k)\n",
    "                all_img.append(k) # Appending all the images to the all_img list\n",
    "    data[i] = d\n",
    "\n"
   ]
  },
  {
   "cell_type": "code",
   "execution_count": 3,
   "id": "2463074a",
   "metadata": {},
   "outputs": [
    {
     "name": "stderr",
     "output_type": "stream",
     "text": [
      "\n",
      "image 1/1 C:\\Users\\aliat\\Downloads\\Aithon\\Ads_problem4\\Pizza\\Ideal\\AdobeStock_323628715.jpeg: 448x640 3 persons, 3 cups, 4 pizzas, 1 dining table, 3710.3ms\n",
      "Speed: 9.6ms preprocess, 3710.3ms inference, 10.1ms postprocess per image at shape (1, 3, 448, 640)\n",
      "\n",
      "image 1/1 C:\\Users\\aliat\\Downloads\\Aithon\\Ads_problem4\\Pizza\\Ideal\\AdobeStock_57849082.jpeg: 448x640 1 pizza, 3623.0ms\n",
      "Speed: 5.1ms preprocess, 3623.0ms inference, 7.1ms postprocess per image at shape (1, 3, 448, 640)\n",
      "\n",
      "image 1/1 C:\\Users\\aliat\\Downloads\\Aithon\\Ads_problem4\\Pizza\\Other\\AdobeStock_286178925.jpeg: 448x640 3 bowls, 1 sandwich, 1 hot dog, 1 pizza, 6 donuts, 3510.2ms\n",
      "Speed: 3.0ms preprocess, 3510.2ms inference, 7.5ms postprocess per image at shape (1, 3, 448, 640)\n",
      "\n",
      "image 1/1 C:\\Users\\aliat\\Downloads\\Aithon\\Ads_problem4\\Pizza\\Other\\AdobeStock_315333860.jpeg: 448x640 4 persons, 1 wine glass, 1 cup, 1 fork, 1 bowl, 5 pizzas, 1 dining table, 3710.3ms\n",
      "Speed: 6.0ms preprocess, 3710.3ms inference, 4.2ms postprocess per image at shape (1, 3, 448, 640)\n",
      "\n",
      "image 1/1 C:\\Users\\aliat\\Downloads\\Aithon\\Ads_problem4\\Pizza\\Other\\AdobeStock_602492718.jpeg: 320x640 5 pizzas, 2561.7ms\n",
      "Speed: 0.0ms preprocess, 2561.7ms inference, 4.6ms postprocess per image at shape (1, 3, 320, 640)\n",
      "\n",
      "image 1/1 C:\\Users\\aliat\\Downloads\\Aithon\\Ads_problem4\\Ramen\\Ideal\\AdobeStock_254640691.jpeg: 448x640 1 spoon, 4 bowls, 1 broccoli, 3558.6ms\n",
      "Speed: 1.6ms preprocess, 3558.6ms inference, 10.0ms postprocess per image at shape (1, 3, 448, 640)\n",
      "\n",
      "image 1/1 C:\\Users\\aliat\\Downloads\\Aithon\\Ads_problem4\\Ramen\\Ideal\\AdobeStock_255497590.jpeg: 352x640 1 bowl, 2785.5ms\n",
      "Speed: 8.5ms preprocess, 2785.5ms inference, 6.1ms postprocess per image at shape (1, 3, 352, 640)\n",
      "\n",
      "image 1/1 C:\\Users\\aliat\\Downloads\\Aithon\\Ads_problem4\\Ramen\\Other\\AdobeStock_175017150.jpeg: 448x640 1 bench, 3409.8ms\n",
      "Speed: 0.0ms preprocess, 3409.8ms inference, 0.0ms postprocess per image at shape (1, 3, 448, 640)\n",
      "\n",
      "image 1/1 C:\\Users\\aliat\\Downloads\\Aithon\\Ads_problem4\\Ramen\\Other\\AdobeStock_288691583.jpeg: 448x640 1 bowl, 3208.1ms\n",
      "Speed: 6.0ms preprocess, 3208.1ms inference, 3.2ms postprocess per image at shape (1, 3, 448, 640)\n",
      "\n",
      "image 1/1 C:\\Users\\aliat\\Downloads\\Aithon\\Ads_problem4\\Ramen\\Other\\AdobeStock_297274410.jpeg: 448x640 2 persons, 1 cup, 1 spoon, 2 bowls, 1 dining table, 3839.7ms\n",
      "Speed: 12.3ms preprocess, 3839.7ms inference, 0.0ms postprocess per image at shape (1, 3, 448, 640)\n"
     ]
    },
    {
     "name": "stdout",
     "output_type": "stream",
     "text": [
      "{'Ads_problem4\\\\Pizza\\\\Ideal\\\\AdobeStock_323628715.jpeg': {'pizza': ['4', [153.98963928222656, 291.21673583984375, 226.3890838623047, 233.55429077148438], [720.8762817382812, 239.23458862304688, 237.6578369140625, 234.1356201171875], [420.0894775390625, 421.43365478515625, 226.013427734375, 223.06881713867188], [453.09600830078125, 159.75413513183594, 249.83035278320312, 261.5409851074219]], 'dining table': ['1', [441.50677490234375, 292.5229187011719, 872.79833984375, 583.9114379882812]], 'person': ['3', [245.96791076660156, 501.9630126953125, 274.6285095214844, 173.05477905273438], [510.864990234375, 99.07861328125, 362.390625, 195.84207153320312], [84.78338623046875, 113.57682800292969, 108.3873291015625, 226.08212280273438]], 'cup': ['3', [634.4913330078125, 131.7866973876953, 82.74188232421875, 83.9341812133789], [272.84417724609375, 172.73043823242188, 87.26675415039062, 81.94517517089844], [85.76455688476562, 477.207275390625, 91.4722671508789, 84.1722412109375]]}, 'Ads_problem4\\\\Pizza\\\\Ideal\\\\AdobeStock_57849082.jpeg': {'pizza': ['1', [405.3200378417969, 289.9132080078125, 810.6400756835938, 522.02392578125]]}, 'Ads_problem4\\\\Pizza\\\\Other\\\\AdobeStock_286178925.jpeg': {'donut': ['6', [278.63262939453125, 391.0660705566406, 151.8454132080078, 148.16021728515625], [274.543701171875, 303.5950927734375, 148.94309997558594, 106.32888793945312], [130.21653747558594, 438.7532958984375, 187.07546997070312, 173.03713989257812], [737.1074829101562, 71.2122573852539, 192.7576904296875, 141.5006866455078], [403.91009521484375, 503.75897216796875, 68.55874633789062, 85.780517578125], [348.6880798339844, 485.6802978515625, 64.7130126953125, 86.44400024414062]], 'pizza': ['1', [826.124755859375, 179.1258544921875, 84.985107421875, 222.7139892578125]], 'sandwich': ['1', [413.7227783203125, 431.313720703125, 73.48904418945312, 77.86825561523438]], 'bowl': ['3', [97.83125305175781, 86.65208435058594, 194.85275268554688, 171.707763671875], [698.1253662109375, 209.06459045410156, 246.59515380859375, 229.82644653320312], [503.8172302246094, 73.76937866210938, 134.31451416015625, 145.59146118164062]], 'hot dog': ['1', [400.67987060546875, 384.12860107421875, 85.34942626953125, 66.75592041015625]]}, 'Ads_problem4\\\\Pizza\\\\Other\\\\AdobeStock_315333860.jpeg': {'pizza': ['5', [168.03579711914062, 250.96990966796875, 230.22576904296875, 225.80284118652344], [503.83154296875, 293.65167236328125, 86.31005859375, 87.700927734375], [467.7226257324219, 416.72772216796875, 214.02764892578125, 224.6240234375], [444.5707092285156, 178.45001220703125, 211.39190673828125, 231.6563720703125], [438.9150390625, 285.2425537109375, 873.8560791015625, 562.4852294921875]], 'cup': ['1', [539.40869140625, 542.1339111328125, 19.4835205078125, 64.70187377929688]], 'dining table': ['1', [721.98779296875, 284.1864929199219, 227.1588134765625, 237.7840118408203]], 'fork': ['1', [620.3375244140625, 458.98590087890625, 183.93695068359375, 222.82803344726562]], 'person': ['4', [603.247314453125, 50.615413665771484, 162.2198486328125, 99.92900848388672], [87.83770751953125, 414.0621032714844, 175.6754150390625, 159.6949462890625], [165.7194061279297, 119.69364166259766, 330.6410217285156, 237.2307586669922], [434.568359375, 40.268890380859375, 105.76364135742188, 79.70333862304688]], 'bowl': ['1', [342.3484191894531, 259.47821044921875, 98.18829345703125, 127.98777770996094]], 'wine glass': ['1', [322.27313232421875, 471.1488342285156, 184.42799377441406, 202.34344482421875]]}, 'Ads_problem4\\\\Pizza\\\\Other\\\\AdobeStock_602492718.jpeg': {'pizza': ['5', [690.3609619140625, 344.886474609375, 342.12744140625, 163.01986694335938], [204.34983825683594, 250.33258056640625, 408.6996765136719, 72.57086181640625], [565.9170532226562, 228.100830078125, 385.8233642578125, 66.61329650878906], [840.110107421875, 223.6554718017578, 43.12548828125, 58.424896240234375], [727.6124267578125, 200.70147705078125, 235.94244384765625, 45.18031311035156]]}, 'Ads_problem4\\\\Ramen\\\\Ideal\\\\AdobeStock_254640691.jpeg': {'bowl': ['4', [205.36770629882812, 108.42800903320312, 124.13508605957031, 124.10946655273438], [158.14474487304688, 275.25970458984375, 158.32003784179688, 158.88844299316406], [225.479248046875, 402.5531005859375, 84.85795593261719, 84.78378295898438], [443.13287353515625, 255.71517944335938, 355.3523864746094, 352.72235107421875]], 'spoon': ['1', [686.6380615234375, 295.59539794921875, 91.48345947265625, 273.54833984375]], 'broccoli': ['1', [162.7080078125, 288.6252136230469, 118.17375183105469, 112.43644714355469]]}, 'Ads_problem4\\\\Ramen\\\\Ideal\\\\AdobeStock_255497590.jpeg': {'bowl': ['1', [555.401123046875, 224.94456481933594, 422.94708251953125, 416.6749572753906]]}, 'Ads_problem4\\\\Ramen\\\\Other\\\\AdobeStock_175017150.jpeg': {'bench': ['1', [584.2135009765625, 362.00701904296875, 539.267333984375, 400.3144836425781]]}, 'Ads_problem4\\\\Ramen\\\\Other\\\\AdobeStock_288691583.jpeg': {'bowl': ['1', [522.8978271484375, 434.636474609375, 437.4789123535156, 186.34689331054688]]}, 'Ads_problem4\\\\Ramen\\\\Other\\\\AdobeStock_297274410.jpeg': {'bowl': ['2', [342.27520751953125, 381.9075012207031, 400.8277587890625, 264.86614990234375], [276.0401611328125, 223.60496520996094, 74.25985717773438, 168.73336791992188]], 'spoon': ['1', [834.6152954101562, 447.0748291015625, 92.018310546875, 187.1260986328125]], 'person': ['2', [576.6629638671875, 154.04656982421875, 606.4378662109375, 305.38958740234375], [446.447509765625, 355.21630859375, 863.590087890625, 451.11376953125]], 'dining table': ['1', [69.83146667480469, 226.22897338867188, 76.46699523925781, 161.5194091796875]], 'cup': ['1', [105.50318908691406, 321.7872314453125, 210.00631713867188, 516.8681640625]]}}\n"
     ]
    }
   ],
   "source": [
    "from ultralytics import YOLO\n",
    "import os\n",
    "import numpy as np\n",
    "\n",
    "\n",
    "def count_entities(results):\n",
    "        d= {}\n",
    "        coord = []\n",
    "        names = model.names\n",
    "        \n",
    "        for r in results:\n",
    "            coord = (r.boxes.xywh).tolist()\n",
    "            for c in r.boxes.cls:\n",
    "                key = names[int(c)]\n",
    "                d[key] = d.get(key, 0)+1\n",
    "        last = 0\n",
    "        for k,v in d.items():\n",
    "            d[k] = list(str(v)) \n",
    "            for c in range(v):\n",
    "                d[k] += [coord[last + c]]\n",
    "                if c == v-1:\n",
    "                    last +=c + 1\n",
    "                    \n",
    "        \n",
    "        return d\n",
    "\n",
    "\n",
    "\n",
    "\n",
    "model = YOLO(\"yolov8x.pt\")\n",
    "names = model.names\n",
    "entity = {}\n",
    "\n",
    "for f in all_img:\n",
    "    results = model.predict(source = f, conf = 0.5,stream=True)\n",
    "    cnt = count_entities(results)\n",
    "    entity[f] = cnt\n",
    "\n",
    "print(entity)"
   ]
  },
  {
   "cell_type": "code",
   "execution_count": 4,
   "id": "c6941390",
   "metadata": {},
   "outputs": [],
   "source": [
    "rev_name = {}\n",
    "for i,j in names.items():\n",
    "    rev_name[j] = i\n"
   ]
  },
  {
   "cell_type": "code",
   "execution_count": 128,
   "id": "5523830d",
   "metadata": {},
   "outputs": [],
   "source": [
    "ideal_dict = {}\n",
    "for main,sub in data.items():\n",
    "    ideal_ent = []\n",
    "    key = list(sub.keys())[0]\n",
    "    for img in sub[key]:\n",
    "        ideal_ent.extend(list(entity[img].items()))\n",
    "    ideal_dict[key] = dict(ideal_ent)\n",
    "    "
   ]
  },
  {
   "cell_type": "code",
   "execution_count": 129,
   "id": "134ee630",
   "metadata": {},
   "outputs": [],
   "source": [
    "other_dict =  {}\n",
    "for main,sub in data.items():\n",
    "    other_ent = []\n",
    "    key = list(sub.keys())[1]\n",
    "    for img in sub[key]:\n",
    "        other_ent.extend(list(entity[img].items()))\n",
    "    other_dict[key] = dict(other_ent)\n",
    "    "
   ]
  },
  {
   "cell_type": "code",
   "execution_count": 130,
   "id": "b5231a2f",
   "metadata": {},
   "outputs": [],
   "source": [
    "count_dict = {\n",
    "    \"Ideal\":ideal_dict,\n",
    "    \"Other\":other_dict\n",
    "}\n"
   ]
  },
  {
   "cell_type": "code",
   "execution_count": 131,
   "id": "384768cd",
   "metadata": {},
   "outputs": [
    {
     "name": "stdout",
     "output_type": "stream",
     "text": [
      "--------------------------------------------------\n",
      "Ads_problem4\\Pizza\\Other\\AdobeStock_286178925.jpeg\n",
      "Missing dining table(class-60)\n",
      "Missing person(class-0)\n",
      "Missing cup(class-41)\n",
      "Extra donut(class-54)\n",
      "Extra sandwich(class-48)\n",
      "Extra bowl(class-45)\n",
      "Extra hot dog(class-52)\n",
      "--------------------------------------------------\n",
      "Ads_problem4\\Pizza\\Other\\AdobeStock_315333860.jpeg\n",
      "Extra fork(class-42)\n",
      "Extra bowl(class-45)\n",
      "Extra wine glass(class-40)\n",
      "--------------------------------------------------\n",
      "Ads_problem4\\Pizza\\Other\\AdobeStock_602492718.jpeg\n",
      "Missing dining table(class-60)\n",
      "Missing person(class-0)\n",
      "Missing cup(class-41)\n",
      "--------------------------------------------------\n",
      "Ads_problem4\\Ramen\\Other\\AdobeStock_175017150.jpeg\n",
      "Missing bowl(class-45)\n",
      "Missing spoon(class-44)\n",
      "Missing broccoli(class-50)\n",
      "Extra bench(class-13)\n",
      "--------------------------------------------------\n",
      "Ads_problem4\\Ramen\\Other\\AdobeStock_288691583.jpeg\n",
      "Missing spoon(class-44)\n",
      "Missing broccoli(class-50)\n",
      "--------------------------------------------------\n",
      "Ads_problem4\\Ramen\\Other\\AdobeStock_297274410.jpeg\n",
      "Missing broccoli(class-50)\n",
      "Extra person(class-0)\n",
      "Extra dining table(class-60)\n",
      "Extra cup(class-41)\n"
     ]
    }
   ],
   "source": [
    "import csv\n",
    "\n",
    "\n",
    "for pth,cnt in count_dict[\"Ideal\"].items():\n",
    "    key = (pth[:-6])\n",
    "    for k in data[key]:\n",
    "        \n",
    "        if (k.endswith(\"Other\\\\\")):\n",
    "            img_other= (data[key][k])\n",
    "            for img in img_other:\n",
    "                \n",
    "                other_ent = (dict(entity[img].items()))\n",
    "                file = (img.split(\".\")[0])\n",
    "                print(\"-\"*50)\n",
    "                print(img)\n",
    "                missing,extra,extra_ent,missing_ent = [],[],[],[]\n",
    "                for ent1,cnt1 in cnt.items():\n",
    "                    if ent1 not in list(other_ent.keys()):\n",
    "                        print(f\"Missing {ent1}(class-{rev_name[ent1]})\")\n",
    "                        missing.append(f\"Missing {ent1}(class-{rev_name[ent1]})\")\n",
    "                        missing_ent.append(ent1)\n",
    "                for ent2,cnt2 in other_ent.items():\n",
    "                    if ent2 not in list(cnt.keys()):\n",
    "                        print(f\"Extra {ent2}(class-{rev_name[ent2]})\")\n",
    "                        extra.append(f\"Extra {ent2}(class-{rev_name[ent2]})\")\n",
    "                        extra_ent.append(ent2)\n",
    "                ents = missing+extra\n",
    "                coords = []\n",
    "                mc,ec = [],[]\n",
    "                \n",
    "                for i in missing_ent:\n",
    "                    mc.append(ideal_dict[pth][i][1:])\n",
    "                        \n",
    "                \n",
    "                for i in extra_ent:\n",
    "                    ec.append(entity[img][i][1:])\n",
    "                \n",
    "                coord = mc + ec\n",
    "                \n",
    "                values = []\n",
    "                for i in range(len(ents)):\n",
    "                    \n",
    "                    values.append([\"Entity\",ents[i],coord[i]])\n",
    "                f = open(f\"{file}.csv\",\"w+\")\n",
    "                cw = csv.writer(f)\n",
    "                header = [\"Entity\",\"Difference\",\"Meta\"]\n",
    "                cw.writerow(header)\n",
    "                cw.writerows(values)\n",
    "                f.close()\n"
   ]
  }
 ],
 "metadata": {
  "kernelspec": {
   "display_name": "Python 3 (ipykernel)",
   "language": "python",
   "name": "python3"
  },
  "language_info": {
   "codemirror_mode": {
    "name": "ipython",
    "version": 3
   },
   "file_extension": ".py",
   "mimetype": "text/x-python",
   "name": "python",
   "nbconvert_exporter": "python",
   "pygments_lexer": "ipython3",
   "version": "3.11.3"
  }
 },
 "nbformat": 4,
 "nbformat_minor": 5
}
