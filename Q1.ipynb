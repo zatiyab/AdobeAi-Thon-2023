{
 "cells": [
  {
   "cell_type": "code",
   "execution_count": 1,
   "id": "30e90778",
   "metadata": {},
   "outputs": [
    {
     "name": "stdout",
     "output_type": "stream",
     "text": [
      "Requirement already satisfied: opencv-python in c:\\users\\anay\\anaconda3\\lib\\site-packages (4.8.0.74)\n",
      "Requirement already satisfied: numpy>=1.19.3 in c:\\users\\anay\\anaconda3\\lib\\site-packages (from opencv-python) (1.22.4)\n"
     ]
    }
   ],
   "source": [
    "!pip install opencv-python"
   ]
  },
  {
   "cell_type": "code",
   "execution_count": 2,
   "id": "75479900",
   "metadata": {},
   "outputs": [
    {
     "name": "stdout",
     "output_type": "stream",
     "text": [
      "Requirement already satisfied: ultralytics in c:\\users\\anay\\anaconda3\\lib\\site-packages (8.0.147)\n",
      "Requirement already satisfied: matplotlib>=3.2.2 in c:\\users\\anay\\anaconda3\\lib\\site-packages (from ultralytics) (3.4.3)\n",
      "Requirement already satisfied: pandas>=1.1.4 in c:\\users\\anay\\anaconda3\\lib\\site-packages (from ultralytics) (1.3.4)\n",
      "Requirement already satisfied: pyyaml>=5.3.1 in c:\\users\\anay\\anaconda3\\lib\\site-packages (from ultralytics) (6.0)\n",
      "Requirement already satisfied: opencv-python>=4.6.0 in c:\\users\\anay\\anaconda3\\lib\\site-packages (from ultralytics) (4.8.0.74)\n",
      "Requirement already satisfied: tqdm>=4.64.0 in c:\\users\\anay\\anaconda3\\lib\\site-packages (from ultralytics) (4.65.0)\n",
      "Requirement already satisfied: pillow>=7.1.2 in c:\\users\\anay\\anaconda3\\lib\\site-packages (from ultralytics) (8.4.0)\n",
      "Requirement already satisfied: torch>=1.7.0 in c:\\users\\anay\\anaconda3\\lib\\site-packages (from ultralytics) (2.0.1)\n",
      "Requirement already satisfied: numpy>=1.22.2 in c:\\users\\anay\\anaconda3\\lib\\site-packages (from ultralytics) (1.22.4)\n",
      "Requirement already satisfied: seaborn>=0.11.0 in c:\\users\\anay\\anaconda3\\lib\\site-packages (from ultralytics) (0.11.2)\n",
      "Requirement already satisfied: torchvision>=0.8.1 in c:\\users\\anay\\anaconda3\\lib\\site-packages (from ultralytics) (0.15.2)\n",
      "Requirement already satisfied: psutil in c:\\users\\anay\\anaconda3\\lib\\site-packages (from ultralytics) (5.8.0)\n",
      "Requirement already satisfied: scipy>=1.4.1 in c:\\users\\anay\\anaconda3\\lib\\site-packages (from ultralytics) (1.7.1)\n",
      "Requirement already satisfied: py-cpuinfo in c:\\users\\anay\\anaconda3\\lib\\site-packages (from ultralytics) (9.0.0)\n",
      "Requirement already satisfied: requests>=2.23.0 in c:\\users\\anay\\anaconda3\\lib\\site-packages (from ultralytics) (2.26.0)\n",
      "Requirement already satisfied: python-dateutil>=2.7 in c:\\users\\anay\\anaconda3\\lib\\site-packages (from matplotlib>=3.2.2->ultralytics) (2.8.2)\n",
      "Requirement already satisfied: pyparsing>=2.2.1 in c:\\users\\anay\\anaconda3\\lib\\site-packages (from matplotlib>=3.2.2->ultralytics) (3.0.4)\n",
      "Requirement already satisfied: cycler>=0.10 in c:\\users\\anay\\anaconda3\\lib\\site-packages (from matplotlib>=3.2.2->ultralytics) (0.10.0)\n",
      "Requirement already satisfied: kiwisolver>=1.0.1 in c:\\users\\anay\\anaconda3\\lib\\site-packages (from matplotlib>=3.2.2->ultralytics) (1.3.1)\n",
      "Requirement already satisfied: six in c:\\users\\anay\\anaconda3\\lib\\site-packages (from cycler>=0.10->matplotlib>=3.2.2->ultralytics) (1.16.0)\n",
      "Requirement already satisfied: pytz>=2017.3 in c:\\users\\anay\\anaconda3\\lib\\site-packages (from pandas>=1.1.4->ultralytics) (2021.3)\n",
      "Requirement already satisfied: charset-normalizer~=2.0.0 in c:\\users\\anay\\anaconda3\\lib\\site-packages (from requests>=2.23.0->ultralytics) (2.0.4)\n",
      "Requirement already satisfied: idna<4,>=2.5 in c:\\users\\anay\\anaconda3\\lib\\site-packages (from requests>=2.23.0->ultralytics) (3.2)\n",
      "Requirement already satisfied: urllib3<1.27,>=1.21.1 in c:\\users\\anay\\anaconda3\\lib\\site-packages (from requests>=2.23.0->ultralytics) (1.26.7)\n",
      "Requirement already satisfied: certifi>=2017.4.17 in c:\\users\\anay\\anaconda3\\lib\\site-packages (from requests>=2.23.0->ultralytics) (2021.10.8)\n",
      "Requirement already satisfied: sympy in c:\\users\\anay\\anaconda3\\lib\\site-packages (from torch>=1.7.0->ultralytics) (1.9)\n",
      "Requirement already satisfied: jinja2 in c:\\users\\anay\\anaconda3\\lib\\site-packages (from torch>=1.7.0->ultralytics) (2.11.3)\n",
      "Requirement already satisfied: filelock in c:\\users\\anay\\anaconda3\\lib\\site-packages (from torch>=1.7.0->ultralytics) (3.3.1)\n",
      "Requirement already satisfied: networkx in c:\\users\\anay\\anaconda3\\lib\\site-packages (from torch>=1.7.0->ultralytics) (2.6.3)\n",
      "Requirement already satisfied: typing-extensions in c:\\users\\anay\\anaconda3\\lib\\site-packages (from torch>=1.7.0->ultralytics) (3.10.0.2)\n",
      "Requirement already satisfied: colorama in c:\\users\\anay\\anaconda3\\lib\\site-packages (from tqdm>=4.64.0->ultralytics) (0.4.4)\n",
      "Requirement already satisfied: MarkupSafe>=0.23 in c:\\users\\anay\\anaconda3\\lib\\site-packages (from jinja2->torch>=1.7.0->ultralytics) (1.1.1)\n",
      "Requirement already satisfied: mpmath>=0.19 in c:\\users\\anay\\anaconda3\\lib\\site-packages (from sympy->torch>=1.7.0->ultralytics) (1.2.1)\n"
     ]
    }
   ],
   "source": [
    "!pip install ultralytics"
   ]
  },
  {
   "cell_type": "code",
   "execution_count": 1,
   "id": "2ec612c1",
   "metadata": {},
   "outputs": [],
   "source": [
    "from ultralytics import YOLO\n",
    "import os\n",
    "import cv2\n",
    "model = YOLO(\"yolov8x.pt\") \n",
    "directory = 'All_Images'\n",
    "\n",
    "for filename in os.listdir(directory):\n",
    "    f = os.path.join(directory, filename)\n",
    "    # checking if it is a file\n",
    "    if os.path.isfile(f):\n",
    "        print(f)\n",
    "        results = model.predict(f, stream=True, conf = 0.5)\n",
    "        for r in results:\n",
    "            resplot = r.plot()\n",
    "            cv2.imshow(f, resplot)\n",
    "            cv2.waitKey(0)\n",
    "        \n"
   ]
  }
 ],
 "metadata": {
  "kernelspec": {
   "display_name": "Python 3 (ipykernel)",
   "language": "python",
   "name": "python3"
  },
  "language_info": {
   "codemirror_mode": {
    "name": "ipython",
    "version": 3
   },
   "file_extension": ".py",
   "mimetype": "text/x-python",
   "name": "python",
   "nbconvert_exporter": "python",
   "pygments_lexer": "ipython3",
   "version": "3.11.3"
  }
 },
 "nbformat": 4,
 "nbformat_minor": 5
}
